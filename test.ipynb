{
 "cells": [
  {
   "cell_type": "code",
   "execution_count": 94,
   "metadata": {},
   "outputs": [
    {
     "data": {
      "text/plain": [
       "<HDF5 file \"v1_nodes.h5\" (mode r)>"
      ]
     },
     "execution_count": 94,
     "metadata": {},
     "output_type": "execute_result"
    }
   ],
   "source": [
    "import h5py\n",
    "f = h5py.File('./v1_nodes.h5', 'r')\n",
    "f"
   ]
  },
  {
   "cell_type": "code",
   "execution_count": 95,
   "metadata": {},
   "outputs": [
    {
     "data": {
      "text/plain": [
       "<HDF5 group \"/nodes/v1/0\" (7 members)>"
      ]
     },
     "execution_count": 95,
     "metadata": {},
     "output_type": "execute_result"
    }
   ],
   "source": [
    "key = f['nodes/v1'].get('0')\n",
    "key"
   ]
  },
  {
   "cell_type": "code",
   "execution_count": 96,
   "metadata": {},
   "outputs": [
    {
     "data": {
      "text/plain": [
       "True"
      ]
     },
     "execution_count": 96,
     "metadata": {},
     "output_type": "execute_result"
    }
   ],
   "source": [
    "str('abc')=='abc'"
   ]
  },
  {
   "cell_type": "code",
   "execution_count": 97,
   "metadata": {},
   "outputs": [
    {
     "data": {
      "text/plain": [
       "True"
      ]
     },
     "execution_count": 97,
     "metadata": {},
     "output_type": "execute_result"
    }
   ],
   "source": [
    "str(1) == str('1') == '1'"
   ]
  },
  {
   "cell_type": "code",
   "execution_count": 98,
   "metadata": {},
   "outputs": [
    {
     "name": "stdout",
     "output_type": "stream",
     "text": [
      "{'networks': [0, 1], 'stim_type': '-', 'amplitudes': [10, 20, 30]}\n",
      "['0_-_10', '0_-_20', '0_-_30', '1_-_10', '1_-_20', '1_-_30']\n"
     ]
    }
   ],
   "source": [
    "def print_args(names=True, **kwargs):\n",
    "    print(kwargs)\n",
    "    length = 1\n",
    "    for key, value in kwargs.items():\n",
    "        length *= len(value)\n",
    "    res = ['']*length\n",
    "    period = length\n",
    "    for key, value in kwargs.items():\n",
    "        period /= len(value)\n",
    "        iters = length/period\n",
    "        for i in range(length):\n",
    "            value_i = (i // period) % len(value)\n",
    "            value_i = int(value_i)\n",
    "            if names:\n",
    "                res[i] += key + str(value[value_i]) + '_'\n",
    "            else:\n",
    "                res[i] += str(value[value_i]) + '_'\n",
    "    for i in range(length):\n",
    "        res[i] = res[i][:-1]\n",
    "\n",
    "    print(res)\n",
    "\n",
    "kwargs = {'networks':[1], 'stim_type':'-', 'amplitudes':[10,20,30], 'networks':[0,1]}\n",
    "print_args(**kwargs, names=False)"
   ]
  },
  {
   "cell_type": "code",
   "execution_count": 1,
   "metadata": {},
   "outputs": [],
   "source": [
    "from v1.config_creator import create_configs, delete_configs\n"
   ]
  },
  {
   "cell_type": "code",
   "execution_count": 2,
   "metadata": {},
   "outputs": [
    {
     "name": "stdout",
     "output_type": "stream",
     "text": [
      "{'manifest': {'$BASE_DIR': '.', '$OUTPUT_DIR': '$BASE_DIR/exp2-/output/1/-/10/01-_10_0', '$BKG_DIR': '$BASE_DIR/components', '$LGN_DIR': '$BASE_DIR/components', '$NETWORK_DIR': '$BASE_DIR/networks_100/network0', '$COMPONENT_DIR': '$BASE_DIR/components', '$STIM_DIR': '$BASE_DIR/../bio_components/stimulations'}, 'run': {'tstop': 100.0, 'dt': 0.025, 'dL': 20.0, 'spike_threshold': -15, 'nsteps_block': 1000, 'overwrite_output_dir': True}, 'target_simulator': 'NEURON', 'conditions': {'celsius': 34.0, 'v_init': -80}, 'inputs': {'LGN_spikes': {'input_type': 'spikes', 'module': 'h5', 'input_file': '$LGN_DIR/results/full3_GScorrected_PScorrected_3.0sec_SF0.04_TF2.0_ori270.0_c100.0_gs0.5_spikes.trial_0.h5', 'node_set': 'lgn'}, 'BKG_spikes': {'input_type': 'spikes', 'module': 'h5', 'input_file': '$BKG_DIR/results/bkg_spikes_n1_fr1000_dt0.25_2.trial_0.h5', 'node_set': 'bkg'}, 'Extracellular_Stim': {'input_type': 'lfp', 'node_set': 'all', 'module': 'comsol', 'comsol_file': '$STIM_DIR/exp2-/01-.txt', 'waveform': '$STIM_DIR/waveform.csv', 'amplitude': -10, 'ip_method': 'L'}}, 'output': {'log_file': 'log.txt', 'output_dir': '$OUTPUT_DIR', 'spikes_file': 'spikes.h5', 'spikes_file_csv': 'spikes.csv'}, 'components': {'morphologies_dir': '$COMPONENT_DIR/morphologies', 'synaptic_models_dir': '$COMPONENT_DIR/synaptic_models', 'mechanisms_dir': '$COMPONENT_DIR/mechanisms', 'biophysical_neuron_models_dir': '$COMPONENT_DIR/biophysical_neuron_templates', 'point_neuron_models_dir': '$COMPONENT_DIR/point_neuron_templates'}, 'networks': {'nodes': [{'nodes_file': '$NETWORK_DIR/v1_nodes.h5', 'node_types_file': '$NETWORK_DIR/v1_node_types.csv'}, {'nodes_file': '$NETWORK_DIR/lgn_nodes.h5', 'node_types_file': '$NETWORK_DIR/lgn_node_types.csv'}, {'nodes_file': '$NETWORK_DIR/bkg_nodes.h5', 'node_types_file': '$NETWORK_DIR/bkg_node_types.csv'}], 'edges': [{'edges_file': '$NETWORK_DIR/v1_v1_edges.h5', 'edge_types_file': '$NETWORK_DIR/v1_v1_edge_types.csv', 'enabled': '${use_recurrent}'}, {'edges_file': '$NETWORK_DIR/lgn_v1_edges.h5', 'edge_types_file': '$NETWORK_DIR/lgn_v1_edge_types.csv'}, {'edges_file': '$NETWORK_DIR/bkg_v1_edges.h5', 'edge_types_file': '$NETWORK_DIR/bkg_v1_edge_types.csv'}]}}\n",
      "c:\\Users\\nilsv\\neural-simulation\\v1\n",
      "00-_10_10\n"
     ]
    },
    {
     "data": {
      "text/plain": [
       "{'manifest': {'$BASE_DIR': '.',\n",
       "  '$OUTPUT_DIR': '$BASE_DIR/exp_test/output/0/-/10/00-_10_10',\n",
       "  '$BKG_DIR': '$BASE_DIR/components',\n",
       "  '$LGN_DIR': '$BASE_DIR/components',\n",
       "  '$NETWORK_DIR': '$BASE_DIR/networks_100/network10',\n",
       "  '$COMPONENT_DIR': '$BASE_DIR/components',\n",
       "  '$STIM_DIR': '$BASE_DIR/../bio_components/stimulations'},\n",
       " 'run': {'tstop': 100.0,\n",
       "  'dt': 0.025,\n",
       "  'dL': 20.0,\n",
       "  'spike_threshold': -15,\n",
       "  'nsteps_block': 1000,\n",
       "  'overwrite_output_dir': True},\n",
       " 'target_simulator': 'NEURON',\n",
       " 'conditions': {'celsius': 34.0, 'v_init': -80},\n",
       " 'inputs': {'LGN_spikes': {'input_type': 'spikes',\n",
       "   'module': 'h5',\n",
       "   'input_file': '$LGN_DIR/results/full3_GScorrected_PScorrected_3.0sec_SF0.04_TF2.0_ori270.0_c100.0_gs0.5_spikes.trial_0.h5',\n",
       "   'node_set': 'lgn'},\n",
       "  'BKG_spikes': {'input_type': 'spikes',\n",
       "   'module': 'h5',\n",
       "   'input_file': '$BKG_DIR/results/bkg_spikes_n1_fr1000_dt0.25_2.trial_0.h5',\n",
       "   'node_set': 'bkg'},\n",
       "  'Extracellular_Stim': {'input_type': 'lfp',\n",
       "   'node_set': 'all',\n",
       "   'module': 'comsol',\n",
       "   'comsol_file': '$STIM_DIR/exp_test/00-.txt',\n",
       "   'waveform': '$STIM_DIR/waveform.csv',\n",
       "   'amplitude': 10,\n",
       "   'ip_method': 'L'}},\n",
       " 'output': {'log_file': 'log.txt',\n",
       "  'output_dir': '$OUTPUT_DIR',\n",
       "  'spikes_file': 'spikes.h5',\n",
       "  'spikes_file_csv': 'spikes.csv'},\n",
       " 'components': {'morphologies_dir': '$COMPONENT_DIR/morphologies',\n",
       "  'synaptic_models_dir': '$COMPONENT_DIR/synaptic_models',\n",
       "  'mechanisms_dir': '$COMPONENT_DIR/mechanisms',\n",
       "  'biophysical_neuron_models_dir': '$COMPONENT_DIR/biophysical_neuron_templates',\n",
       "  'point_neuron_models_dir': '$COMPONENT_DIR/point_neuron_templates'},\n",
       " 'networks': {'nodes': [{'nodes_file': '$NETWORK_DIR/v1_nodes.h5',\n",
       "    'node_types_file': '$NETWORK_DIR/v1_node_types.csv'},\n",
       "   {'nodes_file': '$NETWORK_DIR/lgn_nodes.h5',\n",
       "    'node_types_file': '$NETWORK_DIR/lgn_node_types.csv'},\n",
       "   {'nodes_file': '$NETWORK_DIR/bkg_nodes.h5',\n",
       "    'node_types_file': '$NETWORK_DIR/bkg_node_types.csv'}],\n",
       "  'edges': [{'edges_file': '$NETWORK_DIR/v1_v1_edges.h5',\n",
       "    'edge_types_file': '$NETWORK_DIR/v1_v1_edge_types.csv',\n",
       "    'enabled': '${use_recurrent}'},\n",
       "   {'edges_file': '$NETWORK_DIR/lgn_v1_edges.h5',\n",
       "    'edge_types_file': '$NETWORK_DIR/lgn_v1_edge_types.csv'},\n",
       "   {'edges_file': '$NETWORK_DIR/bkg_v1_edges.h5',\n",
       "    'edge_types_file': '$NETWORK_DIR/bkg_v1_edge_types.csv'}]}}"
      ]
     },
     "execution_count": 2,
     "metadata": {},
     "output_type": "execute_result"
    }
   ],
   "source": [
    "create_configs(r'v1\\exp2-\\config\\1\\-\\10\\config_01-_10_0.json', 'exp_test', [0],['-'],[10],[10], overwrite=True)"
   ]
  },
  {
   "cell_type": "code",
   "execution_count": 113,
   "metadata": {},
   "outputs": [
    {
     "data": {
      "text/plain": [
       "'c:\\\\Users\\\\nilsv\\\\neural-simulation'"
      ]
     },
     "execution_count": 113,
     "metadata": {},
     "output_type": "execute_result"
    }
   ],
   "source": [
    "os.path.abspath(os.getcwd())\n"
   ]
  },
  {
   "cell_type": "code",
   "execution_count": null,
   "metadata": {},
   "outputs": [],
   "source": []
  }
 ],
 "metadata": {
  "kernelspec": {
   "display_name": "bmtk",
   "language": "python",
   "name": "python3"
  },
  "language_info": {
   "codemirror_mode": {
    "name": "ipython",
    "version": 3
   },
   "file_extension": ".py",
   "mimetype": "text/x-python",
   "name": "python",
   "nbconvert_exporter": "python",
   "pygments_lexer": "ipython3",
   "version": "3.10.12"
  },
  "orig_nbformat": 4
 },
 "nbformat": 4,
 "nbformat_minor": 2
}
