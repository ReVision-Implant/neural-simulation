{
 "cells": [
  {
   "cell_type": "code",
   "execution_count": 94,
   "metadata": {},
   "outputs": [
    {
     "data": {
      "text/plain": [
       "<HDF5 file \"v1_nodes.h5\" (mode r)>"
      ]
     },
     "execution_count": 94,
     "metadata": {},
     "output_type": "execute_result"
    }
   ],
   "source": [
    "import h5py\n",
    "f = h5py.File('./v1_nodes.h5', 'r')\n",
    "f"
   ]
  },
  {
   "cell_type": "code",
   "execution_count": 95,
   "metadata": {},
   "outputs": [
    {
     "data": {
      "text/plain": [
       "<HDF5 group \"/nodes/v1/0\" (7 members)>"
      ]
     },
     "execution_count": 95,
     "metadata": {},
     "output_type": "execute_result"
    }
   ],
   "source": [
    "key = f['nodes/v1'].get('0')\n",
    "key"
   ]
  },
  {
   "cell_type": "code",
   "execution_count": 96,
   "metadata": {},
   "outputs": [
    {
     "data": {
      "text/plain": [
       "True"
      ]
     },
     "execution_count": 96,
     "metadata": {},
     "output_type": "execute_result"
    }
   ],
   "source": [
    "str('abc')=='abc'"
   ]
  },
  {
   "cell_type": "code",
   "execution_count": 97,
   "metadata": {},
   "outputs": [
    {
     "data": {
      "text/plain": [
       "True"
      ]
     },
     "execution_count": 97,
     "metadata": {},
     "output_type": "execute_result"
    }
   ],
   "source": [
    "str(1) == str('1') == '1'"
   ]
  },
  {
   "cell_type": "code",
   "execution_count": 98,
   "metadata": {},
   "outputs": [
    {
     "name": "stdout",
     "output_type": "stream",
     "text": [
      "{'networks': [0, 1], 'stim_type': '-', 'amplitudes': [10, 20, 30]}\n",
      "['0_-_10', '0_-_20', '0_-_30', '1_-_10', '1_-_20', '1_-_30']\n"
     ]
    }
   ],
   "source": [
    "def print_args(names=True, **kwargs):\n",
    "    print(kwargs)\n",
    "    length = 1\n",
    "    for key, value in kwargs.items():\n",
    "        length *= len(value)\n",
    "    res = ['']*length\n",
    "    period = length\n",
    "    for key, value in kwargs.items():\n",
    "        period /= len(value)\n",
    "        iters = length/period\n",
    "        for i in range(length):\n",
    "            value_i = (i // period) % len(value)\n",
    "            value_i = int(value_i)\n",
    "            if names:\n",
    "                res[i] += key + str(value[value_i]) + '_'\n",
    "            else:\n",
    "                res[i] += str(value[value_i]) + '_'\n",
    "    for i in range(length):\n",
    "        res[i] = res[i][:-1]\n",
    "\n",
    "    print(res)\n",
    "\n",
    "kwargs = {'networks':[1], 'stim_type':'-', 'amplitudes':[10,20,30], 'networks':[0,1]}\n",
    "print_args(**kwargs, names=False)"
   ]
  },
  {
   "cell_type": "code",
   "execution_count": 1,
   "metadata": {},
   "outputs": [],
   "source": [
    "from v1.config_creator import create_configs, delete_configs\n"
   ]
  },
  {
   "cell_type": "code",
   "execution_count": 2,
   "metadata": {},
   "outputs": [
    {
     "name": "stdout",
     "output_type": "stream",
     "text": [
      "{'manifest': {'$BASE_DIR': '.', '$OUTPUT_DIR': '$BASE_DIR/exp2-/output/1/-/10/01-_10_0', '$BKG_DIR': '$BASE_DIR/components', '$LGN_DIR': '$BASE_DIR/components', '$NETWORK_DIR': '$BASE_DIR/networks_100/network0', '$COMPONENT_DIR': '$BASE_DIR/components', '$STIM_DIR': '$BASE_DIR/../bio_components/stimulations'}, 'run': {'tstop': 100.0, 'dt': 0.025, 'dL': 20.0, 'spike_threshold': -15, 'nsteps_block': 1000, 'overwrite_output_dir': True}, 'target_simulator': 'NEURON', 'conditions': {'celsius': 34.0, 'v_init': -80}, 'inputs': {'LGN_spikes': {'input_type': 'spikes', 'module': 'h5', 'input_file': '$LGN_DIR/results/full3_GScorrected_PScorrected_3.0sec_SF0.04_TF2.0_ori270.0_c100.0_gs0.5_spikes.trial_0.h5', 'node_set': 'lgn'}, 'BKG_spikes': {'input_type': 'spikes', 'module': 'h5', 'input_file': '$BKG_DIR/results/bkg_spikes_n1_fr1000_dt0.25_2.trial_0.h5', 'node_set': 'bkg'}, 'Extracellular_Stim': {'input_type': 'lfp', 'node_set': 'all', 'module': 'comsol', 'comsol_file': '$STIM_DIR/exp2-/01-.txt', 'waveform': '$STIM_DIR/waveform.csv', 'amplitude': -10, 'ip_method': 'L'}}, 'output': {'log_file': 'log.txt', 'output_dir': '$OUTPUT_DIR', 'spikes_file': 'spikes.h5', 'spikes_file_csv': 'spikes.csv'}, 'components': {'morphologies_dir': '$COMPONENT_DIR/morphologies', 'synaptic_models_dir': '$COMPONENT_DIR/synaptic_models', 'mechanisms_dir': '$COMPONENT_DIR/mechanisms', 'biophysical_neuron_models_dir': '$COMPONENT_DIR/biophysical_neuron_templates', 'point_neuron_models_dir': '$COMPONENT_DIR/point_neuron_templates'}, 'networks': {'nodes': [{'nodes_file': '$NETWORK_DIR/v1_nodes.h5', 'node_types_file': '$NETWORK_DIR/v1_node_types.csv'}, {'nodes_file': '$NETWORK_DIR/lgn_nodes.h5', 'node_types_file': '$NETWORK_DIR/lgn_node_types.csv'}, {'nodes_file': '$NETWORK_DIR/bkg_nodes.h5', 'node_types_file': '$NETWORK_DIR/bkg_node_types.csv'}], 'edges': [{'edges_file': '$NETWORK_DIR/v1_v1_edges.h5', 'edge_types_file': '$NETWORK_DIR/v1_v1_edge_types.csv', 'enabled': '${use_recurrent}'}, {'edges_file': '$NETWORK_DIR/lgn_v1_edges.h5', 'edge_types_file': '$NETWORK_DIR/lgn_v1_edge_types.csv'}, {'edges_file': '$NETWORK_DIR/bkg_v1_edges.h5', 'edge_types_file': '$NETWORK_DIR/bkg_v1_edge_types.csv'}]}}\n",
      "c:\\Users\\nilsv\\neural-simulation\\v1\n",
      "00-_10_10\n"
     ]
    },
    {
     "data": {
      "text/plain": [
       "{'manifest': {'$BASE_DIR': '.',\n",
       "  '$OUTPUT_DIR': '$BASE_DIR/exp_test/output/0/-/10/00-_10_10',\n",
       "  '$BKG_DIR': '$BASE_DIR/components',\n",
       "  '$LGN_DIR': '$BASE_DIR/components',\n",
       "  '$NETWORK_DIR': '$BASE_DIR/networks_100/network10',\n",
       "  '$COMPONENT_DIR': '$BASE_DIR/components',\n",
       "  '$STIM_DIR': '$BASE_DIR/../bio_components/stimulations'},\n",
       " 'run': {'tstop': 100.0,\n",
       "  'dt': 0.025,\n",
       "  'dL': 20.0,\n",
       "  'spike_threshold': -15,\n",
       "  'nsteps_block': 1000,\n",
       "  'overwrite_output_dir': True},\n",
       " 'target_simulator': 'NEURON',\n",
       " 'conditions': {'celsius': 34.0, 'v_init': -80},\n",
       " 'inputs': {'LGN_spikes': {'input_type': 'spikes',\n",
       "   'module': 'h5',\n",
       "   'input_file': '$LGN_DIR/results/full3_GScorrected_PScorrected_3.0sec_SF0.04_TF2.0_ori270.0_c100.0_gs0.5_spikes.trial_0.h5',\n",
       "   'node_set': 'lgn'},\n",
       "  'BKG_spikes': {'input_type': 'spikes',\n",
       "   'module': 'h5',\n",
       "   'input_file': '$BKG_DIR/results/bkg_spikes_n1_fr1000_dt0.25_2.trial_0.h5',\n",
       "   'node_set': 'bkg'},\n",
       "  'Extracellular_Stim': {'input_type': 'lfp',\n",
       "   'node_set': 'all',\n",
       "   'module': 'comsol',\n",
       "   'comsol_file': '$STIM_DIR/exp_test/00-.txt',\n",
       "   'waveform': '$STIM_DIR/waveform.csv',\n",
       "   'amplitude': 10,\n",
       "   'ip_method': 'L'}},\n",
       " 'output': {'log_file': 'log.txt',\n",
       "  'output_dir': '$OUTPUT_DIR',\n",
       "  'spikes_file': 'spikes.h5',\n",
       "  'spikes_file_csv': 'spikes.csv'},\n",
       " 'components': {'morphologies_dir': '$COMPONENT_DIR/morphologies',\n",
       "  'synaptic_models_dir': '$COMPONENT_DIR/synaptic_models',\n",
       "  'mechanisms_dir': '$COMPONENT_DIR/mechanisms',\n",
       "  'biophysical_neuron_models_dir': '$COMPONENT_DIR/biophysical_neuron_templates',\n",
       "  'point_neuron_models_dir': '$COMPONENT_DIR/point_neuron_templates'},\n",
       " 'networks': {'nodes': [{'nodes_file': '$NETWORK_DIR/v1_nodes.h5',\n",
       "    'node_types_file': '$NETWORK_DIR/v1_node_types.csv'},\n",
       "   {'nodes_file': '$NETWORK_DIR/lgn_nodes.h5',\n",
       "    'node_types_file': '$NETWORK_DIR/lgn_node_types.csv'},\n",
       "   {'nodes_file': '$NETWORK_DIR/bkg_nodes.h5',\n",
       "    'node_types_file': '$NETWORK_DIR/bkg_node_types.csv'}],\n",
       "  'edges': [{'edges_file': '$NETWORK_DIR/v1_v1_edges.h5',\n",
       "    'edge_types_file': '$NETWORK_DIR/v1_v1_edge_types.csv',\n",
       "    'enabled': '${use_recurrent}'},\n",
       "   {'edges_file': '$NETWORK_DIR/lgn_v1_edges.h5',\n",
       "    'edge_types_file': '$NETWORK_DIR/lgn_v1_edge_types.csv'},\n",
       "   {'edges_file': '$NETWORK_DIR/bkg_v1_edges.h5',\n",
       "    'edge_types_file': '$NETWORK_DIR/bkg_v1_edge_types.csv'}]}}"
      ]
     },
     "execution_count": 2,
     "metadata": {},
     "output_type": "execute_result"
    }
   ],
   "source": [
    "create_configs(r'v1\\exp2-\\config\\1\\-\\10\\config_01-_10_0.json', 'exp_test', [0],['-'],[10],[10], overwrite=True)"
   ]
  },
  {
   "cell_type": "code",
   "execution_count": 6,
   "metadata": {},
   "outputs": [
    {
     "data": {
      "text/plain": [
       "{'nodes_dirs': ['1', '1'], 'spikes_dirs': []}"
      ]
     },
     "execution_count": 6,
     "metadata": {},
     "output_type": "execute_result"
    }
   ],
   "source": [
    "kwargs = dict(nodes_dirs=[], spikes_dirs=[])\n",
    "kwargs['nodes_dirs'].append('1')\n",
    "kwargs['nodes_dirs'].append('1')\n",
    "kwargs"
   ]
  },
  {
   "cell_type": "code",
   "execution_count": 9,
   "metadata": {},
   "outputs": [
    {
     "data": {
      "text/plain": [
       "'/home\\\\1\\\\2\\\\3'"
      ]
     },
     "execution_count": 9,
     "metadata": {},
     "output_type": "execute_result"
    }
   ],
   "source": [
    "import os\n",
    "os.path.join('/home',str(1),str(2),str(3))"
   ]
  },
  {
   "cell_type": "code",
   "execution_count": 10,
   "metadata": {},
   "outputs": [
    {
     "ename": "NameError",
     "evalue": "name '__file__' is not defined",
     "output_type": "error",
     "traceback": [
      "\u001b[1;31m---------------------------------------------------------------------------\u001b[0m",
      "\u001b[1;31mNameError\u001b[0m                                 Traceback (most recent call last)",
      "\u001b[1;32mc:\\Users\\nilsv\\neural-simulation\\test.ipynb Cell 10\u001b[0m in \u001b[0;36m1\n\u001b[1;32m----> <a href='vscode-notebook-cell:/c%3A/Users/nilsv/neural-simulation/test.ipynb#X12sZmlsZQ%3D%3D?line=0'>1</a>\u001b[0m \u001b[39m__file__\u001b[39;49m\n",
      "\u001b[1;31mNameError\u001b[0m: name '__file__' is not defined"
     ]
    }
   ],
   "source": [
    "__file__"
   ]
  },
  {
   "cell_type": "code",
   "execution_count": 12,
   "metadata": {},
   "outputs": [
    {
     "ename": "NameError",
     "evalue": "name '__file__' is not defined",
     "output_type": "error",
     "traceback": [
      "\u001b[1;31m---------------------------------------------------------------------------\u001b[0m",
      "\u001b[1;31mNameError\u001b[0m                                 Traceback (most recent call last)",
      "\u001b[1;32mc:\\Users\\nilsv\\neural-simulation\\test.ipynb Cell 11\u001b[0m in \u001b[0;36m1\n\u001b[1;32m----> <a href='vscode-notebook-cell:/c%3A/Users/nilsv/neural-simulation/test.ipynb#X13sZmlsZQ%3D%3D?line=0'>1</a>\u001b[0m os\u001b[39m.\u001b[39mpath\u001b[39m.\u001b[39mdirname(os\u001b[39m.\u001b[39mpath\u001b[39m.\u001b[39mabspath(\u001b[39m__file__\u001b[39;49m))\n",
      "\u001b[1;31mNameError\u001b[0m: name '__file__' is not defined"
     ]
    }
   ],
   "source": [
    "os.path.dirname(os.path.abspath(__file__))"
   ]
  },
  {
   "cell_type": "code",
   "execution_count": 15,
   "metadata": {},
   "outputs": [
    {
     "data": {
      "text/plain": [
       "'$STIM_DIR\\\\comsol'"
      ]
     },
     "execution_count": 15,
     "metadata": {},
     "output_type": "execute_result"
    }
   ],
   "source": [
    "exp = 'e'\n",
    "exp[:3]\n",
    "comsol = 'comsol'\n",
    "os.path.join('$STIM_DIR', comsol)"
   ]
  },
  {
   "cell_type": "code",
   "execution_count": 14,
   "metadata": {},
   "outputs": [
    {
     "data": {
      "text/plain": [
       "'e1'"
      ]
     },
     "execution_count": 14,
     "metadata": {},
     "output_type": "execute_result"
    }
   ],
   "source": [
    "exp = 'exp1'\n",
    "exp[0:len(exp):len(exp)-1]\n"
   ]
  },
  {
   "cell_type": "code",
   "execution_count": 15,
   "metadata": {},
   "outputs": [],
   "source": [
    "def print_args(names=False, **kwargs):\n",
    "    print(kwargs)\n",
    "    length = 1\n",
    "    for key, value in kwargs.items():\n",
    "        length *= len(value)\n",
    "    res = ['']*length\n",
    "    period = length\n",
    "    for key, value in kwargs.items():\n",
    "        period /= len(value)\n",
    "        iters = length/period\n",
    "        for i in range(length):\n",
    "            value_i = (i // period) % len(value)\n",
    "            value_i = int(value_i)\n",
    "            if names:\n",
    "                res[i] += key + str(value[value_i]) + '_'\n",
    "            else:\n",
    "                res[i] += str(value[value_i]) + '_'\n",
    "    for i in range(length):\n",
    "        res[i] = res[i][:-1]\n",
    "\n",
    "    print(res)"
   ]
  },
  {
   "cell_type": "code",
   "execution_count": 17,
   "metadata": {},
   "outputs": [
    {
     "name": "stdout",
     "output_type": "stream",
     "text": [
      "{'patterns': [0, 1], 'amplitudes': [10], 'networks': [0, 1]}\n",
      "['patterns0_amplitudes10_networks0', 'patterns0_amplitudes10_networks1', 'patterns1_amplitudes10_networks0', 'patterns1_amplitudes10_networks1']\n"
     ]
    }
   ],
   "source": [
    "print_args(names=True, patterns=[0,1], amplitudes=[10], networks=[0,1])"
   ]
  },
  {
   "cell_type": "code",
   "execution_count": 23,
   "metadata": {},
   "outputs": [
    {
     "data": {
      "text/html": [
       "<div>\n",
       "<style scoped>\n",
       "    .dataframe tbody tr th:only-of-type {\n",
       "        vertical-align: middle;\n",
       "    }\n",
       "\n",
       "    .dataframe tbody tr th {\n",
       "        vertical-align: top;\n",
       "    }\n",
       "\n",
       "    .dataframe thead th {\n",
       "        text-align: right;\n",
       "    }\n",
       "</style>\n",
       "<table border=\"1\" class=\"dataframe\">\n",
       "  <thead>\n",
       "    <tr style=\"text-align: right;\">\n",
       "      <th></th>\n",
       "      <th>electrode</th>\n",
       "      <th>comsol</th>\n",
       "      <th>waveform</th>\n",
       "      <th>amplitude</th>\n",
       "    </tr>\n",
       "  </thead>\n",
       "  <tbody>\n",
       "    <tr>\n",
       "      <th>0</th>\n",
       "      <td>0</td>\n",
       "      <td>comsol1.txt</td>\n",
       "      <td>waveform.csv</td>\n",
       "      <td>10</td>\n",
       "    </tr>\n",
       "    <tr>\n",
       "      <th>1</th>\n",
       "      <td>1</td>\n",
       "      <td>comsol2.txt</td>\n",
       "      <td>waveform.csv</td>\n",
       "      <td>-5</td>\n",
       "    </tr>\n",
       "    <tr>\n",
       "      <th>2</th>\n",
       "      <td>2</td>\n",
       "      <td>comsol3.txt</td>\n",
       "      <td>waveform.csv</td>\n",
       "      <td>-5</td>\n",
       "    </tr>\n",
       "  </tbody>\n",
       "</table>\n",
       "</div>"
      ],
      "text/plain": [
       "   electrode       comsol      waveform  amplitude\n",
       "0          0  comsol1.txt  waveform.csv         10\n",
       "1          1  comsol2.txt  waveform.csv         -5\n",
       "2          2  comsol3.txt  waveform.csv         -5"
      ]
     },
     "execution_count": 23,
     "metadata": {},
     "output_type": "execute_result"
    }
   ],
   "source": [
    "import pandas as pd\n",
    "df = pd.read_csv('v1_Anke/components/stimulation/patterns/exp1/pattern1.csv', sep='\\s+')\n",
    "df"
   ]
  },
  {
   "cell_type": "code",
   "execution_count": 44,
   "metadata": {},
   "outputs": [
    {
     "ename": "NameError",
     "evalue": "name '__file__' is not defined",
     "output_type": "error",
     "traceback": [
      "\u001b[1;31m---------------------------------------------------------------------------\u001b[0m",
      "\u001b[1;31mNameError\u001b[0m                                 Traceback (most recent call last)",
      "\u001b[1;32mc:\\Users\\nilsv\\neural-simulation\\test.ipynb Cell 17\u001b[0m in \u001b[0;36m1\n\u001b[0;32m     <a href='vscode-notebook-cell:/c%3A/Users/nilsv/neural-simulation/test.ipynb#X22sZmlsZQ%3D%3D?line=11'>12</a>\u001b[0m     amplitudes \u001b[39m=\u001b[39m df[\u001b[39m'\u001b[39m\u001b[39mamplitude\u001b[39m\u001b[39m'\u001b[39m]\u001b[39m.\u001b[39mtolist()\n\u001b[0;32m     <a href='vscode-notebook-cell:/c%3A/Users/nilsv/neural-simulation/test.ipynb#X22sZmlsZQ%3D%3D?line=13'>14</a>\u001b[0m     \u001b[39mreturn\u001b[39;00m \u001b[39mdict\u001b[39m(comsol_files\u001b[39m=\u001b[39mcomsol_files, waveforms\u001b[39m=\u001b[39mwaveforms, amplitudes\u001b[39m=\u001b[39mamplitudes)\n\u001b[1;32m---> <a href='vscode-notebook-cell:/c%3A/Users/nilsv/neural-simulation/test.ipynb#X22sZmlsZQ%3D%3D?line=15'>16</a>\u001b[0m amplitudes \u001b[39m=\u001b[39m get_stim_params(\u001b[39m1\u001b[39;49m, \u001b[39m1\u001b[39;49m)[\u001b[39m'\u001b[39m\u001b[39mamplitude\u001b[39m\u001b[39m'\u001b[39m]\n",
      "\u001b[1;32mc:\\Users\\nilsv\\neural-simulation\\test.ipynb Cell 17\u001b[0m in \u001b[0;36m6\n\u001b[0;32m      <a href='vscode-notebook-cell:/c%3A/Users/nilsv/neural-simulation/test.ipynb#X22sZmlsZQ%3D%3D?line=1'>2</a>\u001b[0m \u001b[39mdef\u001b[39;00m \u001b[39mget_stim_params\u001b[39m(exp, pattern):\n\u001b[0;32m      <a href='vscode-notebook-cell:/c%3A/Users/nilsv/neural-simulation/test.ipynb#X22sZmlsZQ%3D%3D?line=3'>4</a>\u001b[0m     exp \u001b[39m=\u001b[39m \u001b[39m'\u001b[39m\u001b[39mexp\u001b[39m\u001b[39m'\u001b[39m \u001b[39m+\u001b[39m \u001b[39mstr\u001b[39m(exp) \u001b[39mif\u001b[39;00m \u001b[39mstr\u001b[39m(exp)[:\u001b[39m3\u001b[39m] \u001b[39m!=\u001b[39m \u001b[39m'\u001b[39m\u001b[39mexp\u001b[39m\u001b[39m'\u001b[39m \u001b[39melse\u001b[39;00m \u001b[39mstr\u001b[39m(exp)\n\u001b[1;32m----> <a href='vscode-notebook-cell:/c%3A/Users/nilsv/neural-simulation/test.ipynb#X22sZmlsZQ%3D%3D?line=5'>6</a>\u001b[0m     root \u001b[39m=\u001b[39m os\u001b[39m.\u001b[39mpath\u001b[39m.\u001b[39mdirname(os\u001b[39m.\u001b[39mpath\u001b[39m.\u001b[39mabspath(\u001b[39m__file__\u001b[39;49m))\n\u001b[0;32m      <a href='vscode-notebook-cell:/c%3A/Users/nilsv/neural-simulation/test.ipynb#X22sZmlsZQ%3D%3D?line=6'>7</a>\u001b[0m     path \u001b[39m=\u001b[39m os\u001b[39m.\u001b[39mpath\u001b[39m.\u001b[39mjoin(root, \u001b[39m'\u001b[39m\u001b[39mstimulation\u001b[39m\u001b[39m'\u001b[39m, \u001b[39m'\u001b[39m\u001b[39mpatterns\u001b[39m\u001b[39m'\u001b[39m, exp, pattern)\n\u001b[0;32m      <a href='vscode-notebook-cell:/c%3A/Users/nilsv/neural-simulation/test.ipynb#X22sZmlsZQ%3D%3D?line=7'>8</a>\u001b[0m     df \u001b[39m=\u001b[39m pd\u001b[39m.\u001b[39mread_csv(path, sep\u001b[39m=\u001b[39m\u001b[39m'\u001b[39m\u001b[39m\\\u001b[39m\u001b[39ms+\u001b[39m\u001b[39m'\u001b[39m)\n",
      "\u001b[1;31mNameError\u001b[0m: name '__file__' is not defined"
     ]
    }
   ],
   "source": [
    "import os\n",
    "def get_stim_params(exp, pattern):\n",
    "\n",
    "    exp = 'exp' + str(exp) if str(exp)[:3] != 'exp' else str(exp)\n",
    "\n",
    "    root = os.path.dirname(os.path.abspath(__file__))\n",
    "    path = os.path.join(root, 'stimulation', 'patterns', exp, pattern)\n",
    "    df = pd.read_csv(path, sep='\\s+')\n",
    "    \n",
    "    comsol_files = df['comsol'].tolist()\n",
    "    waveforms = df['waveform'].tolist()\n",
    "    amplitudes = df['amplitude'].tolist()\n",
    "    \n",
    "    return dict(comsol_files=comsol_files, waveforms=waveforms, amplitudes=amplitudes)\n",
    "\n",
    "amplitudes = get_stim_params(1, 1)['amplitude']"
   ]
  },
  {
   "cell_type": "code",
   "execution_count": null,
   "metadata": {},
   "outputs": [],
   "source": []
  }
 ],
 "metadata": {
  "kernelspec": {
   "display_name": "bmtk",
   "language": "python",
   "name": "python3"
  },
  "language_info": {
   "codemirror_mode": {
    "name": "ipython",
    "version": 3
   },
   "file_extension": ".py",
   "mimetype": "text/x-python",
   "name": "python",
   "nbconvert_exporter": "python",
   "pygments_lexer": "ipython3",
   "version": "3.10.12"
  },
  "orig_nbformat": 4
 },
 "nbformat": 4,
 "nbformat_minor": 2
}
