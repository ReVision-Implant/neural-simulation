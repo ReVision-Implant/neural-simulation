{
 "cells": [
  {
   "cell_type": "markdown",
   "metadata": {},
   "source": [
    "# Tutorial 1: Single cell simulation with current injection (with BioNet)\n",
    "\n",
    "In this example we will build a network consisting of a single biophysically detailed cell. Then we will run a short simulation with a current injection at the soma of the cell, then look at the output of spikes, membrane potential and calcium flux.\n",
    "\n",
    "\n",
    "**Note** - scripts and files for running this tutorial can be found in the directory [sources/chapter01/](https://github.com/AllenInstitute/bmtk/tree/develop/docs/tutorial/sources/chapter01)\n",
    "\n",
    "**requirements:**\n",
    "* Python 2.7, 3.6+\n",
    "* bmtk\n",
    "* NEURON 7.4+"
   ]
  },
  {
   "cell_type": "markdown",
   "metadata": {},
   "source": [
    "## 1. Building the network\n",
    "\n",
    "The first step is to use the bmtk Network Builder to create and save the network. First we instantiate a network with a name or our choosing (since throughout this tutorial we will use cell models from the mouse cortex, let's call our network 'mcortex'). \n",
    "\n",
    "Once we have initialized a network object, we can add a single node by calling the add_nodes method."
   ]
  },
  {
   "cell_type": "code",
   "execution_count": 2,
   "metadata": {},
   "outputs": [
    {
     "name": "stdout",
     "output_type": "stream",
     "text": [
      "MPI startup(): PMI server not found. Please set I_MPI_PMI_LIBRARY variable if it is not a singleton case.\n"
     ]
    }
   ],
   "source": [
    "from bmtk.builder.networks import NetworkBuilder\n",
    "\n",
    "net = NetworkBuilder('mcortex')\n",
    "net.add_nodes(\n",
    "    cell_name='Scnn1a_473845048',\n",
    "    potential='exc',\n",
    "    model_type='biophysical',\n",
    "    model_template='ctdb:Biophys1.hoc',\n",
    "    model_processing='aibs_perisomatic',\n",
    "    dynamics_params='472363762_fit.json',\n",
    "    morphology='Scnn1a_473845048_m.swc'\n",
    ")"
   ]
  },
  {
   "cell_type": "markdown",
   "metadata": {},
   "source": [
    "Some of the parameters used to create the node are optional and only for our benefit. Others are necessary for when we will eventually run a simulation:\n",
    "* *cell_name* (optional) - Name/type of cell we will be modeling.\n",
    "* *potential* (optional) - Use to indicate that it is an excitatory type cell.\n",
    "* *model_type* - Used by the simulator to indicate that we are using a biophysical cell.\n",
    "* *model template* - NEURON .hoc file, NeuroML file, or other template used in the creation of cell/node object.\n",
    "* *model_processing* - A custom function used by the simulator to load the model into NEURON using Allen Cell Types files for perisomatic models.\n",
    "* *dynamics_params* - Model parameters. File will be downloaded from the Allen Cell Types Database. \n",
    "* *morphology* - Model morphology. File will be downloaded from the Allen Cell Types Database.\n",
    "\n",
    " \n",
    "#### Building and saving\n",
    "The final thing to do is to build and save the network. If successful, we should see a combination of hdf5 and csv files in the './network' directory, these files are used describe the network, and can be saved, stored and run at a later date.\n",
    "\n",
    "First, it's a good idea to remove any old files in the \"network\" folder so they don't interfere with the current simulation.\n",
    "\n",
    "```bash\n",
    "$ rm -r sim_ch01/network \n",
    "```\n",
    " \n",
    "If you get the output:\n",
    "\n",
    "```rm: cannot remove sim_ch01/network/*: No such file or directory```\n",
    "\n",
    "It's OK. Keep going."
   ]
  },
  {
   "cell_type": "code",
   "execution_count": 3,
   "metadata": {},
   "outputs": [],
   "source": [
    "net.build()\n",
    "net.save_nodes(output_dir='sim_ch01/network')"
   ]
  },
  {
   "cell_type": "markdown",
   "metadata": {},
   "source": [
    "Use the NetworkBuilder nodes() method to show that a node of our parameters was created"
   ]
  },
  {
   "cell_type": "code",
   "execution_count": 4,
   "metadata": {},
   "outputs": [
    {
     "name": "stdout",
     "output_type": "stream",
     "text": [
      "{'cell_name': 'Scnn1a_473845048', 'potential': 'exc', 'model_type': 'biophysical', 'model_template': 'ctdb:Biophys1.hoc', 'model_processing': 'aibs_perisomatic', 'dynamics_params': '472363762_fit.json', 'morphology': 'Scnn1a_473845048_m.swc', 'node_type_id': 100, 'node_id': 0}\n"
     ]
    }
   ],
   "source": [
    "for node in net.nodes():\n",
    "    print(node)"
   ]
  },
  {
   "cell_type": "markdown",
   "metadata": {},
   "source": [
    "## 2. Setting up the simulator environment\n",
    "\n",
    "Now that the network has been built, we can use the BioNet simulator to setup and run it using NEURON. The easiest ways to do this is to copy and modify [existing simulation setup](https://github.com/AllenInstitute/bmtk/tree/develop/docs/examples/bio_14cells), or use the  ```bmtk.utils.sim_setup``` script which can be called from the command-line\n",
    "\n",
    "```bash\n",
    "$ python -m bmtk.utils.sim_setup  --report-vars v,cai           \\\n",
    "                                  --network sim_ch01/network/   \\\n",
    "                                  --iclamp 0.12,500.0,1000.0    \\\n",
    "                                  --dt 0.1 --tstop 2000.0       \\\n",
    "                                  --include-examples            \\\n",
    "                                  --compile-mechanisms          \\\n",
    "                                  bionet sim_ch01\n",
    "```\n",
    "\n",
    "Or call the function directly in Python:"
   ]
  },
  {
   "cell_type": "code",
   "execution_count": 5,
   "metadata": {},
   "outputs": [
    {
     "name": "stderr",
     "output_type": "stream",
     "text": [
<<<<<<< HEAD
      "WARNING:root:Configuration file c:\\Users\\ankev\\Documents\\GitHub\\neural-simulation\\docs\\tutorial\\sim_ch01\\config.json already exists, skipping. Please delete existing file, use a different name, or use overwrite_config=True.\n",
      "WARNING:root:Configuration file c:\\Users\\ankev\\Documents\\GitHub\\neural-simulation\\docs\\tutorial\\sim_ch01\\circuit_config.json already exists, skipping. Please delete existing file, use a different name, or use overwrite_config=True.\n",
      "WARNING:root:Configuration file c:\\Users\\ankev\\Documents\\GitHub\\neural-simulation\\docs\\tutorial\\sim_ch01\\simulation_config.json already exists, skipping. Please delete existing file, use a different name, or use overwrite_config=True.\n",
      "ERROR:bmtk.utils.sim_setup:  Was unable to compile mechanism in c:\\Users\\ankev\\Documents\\GitHub\\neural-simulation\\docs\\tutorial\\sim_ch01\\components\\mechanisms\n"
=======
      "WARNING:root:Configuration file /lustre1/scratch/356/vsc35693/neural-simulation/docs/tutorial/sim_ch01/config.json already exists, skipping. Please delete existing file, use a different name, or use overwrite_config=True.\n",
      "WARNING:root:Configuration file /lustre1/scratch/356/vsc35693/neural-simulation/docs/tutorial/sim_ch01/circuit_config.json already exists, skipping. Please delete existing file, use a different name, or use overwrite_config=True.\n",
      "WARNING:root:Configuration file /lustre1/scratch/356/vsc35693/neural-simulation/docs/tutorial/sim_ch01/simulation_config.json already exists, skipping. Please delete existing file, use a different name, or use overwrite_config=True.\n"
     ]
    },
    {
     "name": "stdout",
     "output_type": "stream",
     "text": [
      "/lustre1/scratch/356/vsc35693/neural-simulation/docs/tutorial/sim_ch01/components/mechanisms\n",
      "Mod files: \"modfiles/CaDynamics.mod\" \"modfiles/Ca_HVA.mod\" \"modfiles/Ca_LVA.mod\" \"modfiles/Ih.mod\" \"modfiles/Im.mod\" \"modfiles/Im_v2.mod\" \"modfiles/Kd.mod\" \"modfiles/K_P.mod\" \"modfiles/K_T.mod\" \"modfiles/Kv2like.mod\" \"modfiles/Kv3_1.mod\" \"modfiles/Nap.mod\" \"modfiles/NaTa.mod\" \"modfiles/NaTs.mod\" \"modfiles/NaV.mod\" \"modfiles/SK.mod\" \"modfiles/vecevent.mod\"\n",
      "\n",
      "COBJS=''\n",
      " -> \u001b[32mCompiling\u001b[0m mod_func.c\n",
      "/home/conda/feedstock_root/build_artifacts/neuron_1667110727431/_build_env/bin/x86_64-conda-linux-gnu-cc -g  -O2 -march=nocona -mtune=haswell -ftree-vectorize -fPIC -fstack-protector-strong -fno-plt -O2 -ffunction-sections -pipe -isystem /data/leuven/356/vsc35693/anaconda3/envs/thesis/include -fdebug-prefix-map=/home/conda/feedstock_root/build_artifacts/neuron_1667110727431/work=/usr/local/src/conda/neuron-8.0.2 -fdebug-prefix-map=/data/leuven/356/vsc35693/anaconda3/envs/thesis=/usr/local/src/conda-prefix  -I.   -I/data/leuven/356/vsc35693/anaconda3/envs/thesis/include  -fPIC -c mod_func.c -o mod_func.o\n",
      " -> \u001b[32mCompiling\u001b[0m CaDynamics.c\n",
      "/home/conda/feedstock_root/build_artifacts/neuron_1667110727431/_build_env/bin/x86_64-conda-linux-gnu-cc -g  -O2 -march=nocona -mtune=haswell -ftree-vectorize -fPIC -fstack-protector-strong -fno-plt -O2 -ffunction-sections -pipe -isystem /data/leuven/356/vsc35693/anaconda3/envs/thesis/include -fdebug-prefix-map=/home/conda/feedstock_root/build_artifacts/neuron_1667110727431/work=/usr/local/src/conda/neuron-8.0.2 -fdebug-prefix-map=/data/leuven/356/vsc35693/anaconda3/envs/thesis=/usr/local/src/conda-prefix  -I\"../modfiles\" -I.   -I/data/leuven/356/vsc35693/anaconda3/envs/thesis/include  -fPIC -c CaDynamics.c -o CaDynamics.o\n"
     ]
    },
    {
     "name": "stderr",
     "output_type": "stream",
     "text": [
      "make: /home/conda/feedstock_root/build_artifacts/neuron_1667110727431/_build_env/bin/x86_64-conda-linux-gnu-cc: Command not found\n",
      "make: *** [/data/leuven/356/vsc35693/anaconda3/envs/thesis/bin/nrnmech_makefile:120: mod_func.o] Error 127\n",
      "make: *** Waiting for unfinished jobs....\n",
      "/bin/sh: /home/conda/feedstock_root/build_artifacts/neuron_1667110727431/_build_env/bin/x86_64-conda-linux-gnu-cc: No such file or directory\n",
      "make: *** [makemod2c_inc:8: CaDynamics.o] Error 127\n"
>>>>>>> 634b08f4eef1d754707698f2a714a87fff98443a
     ]
    }
   ],
   "source": [
    "from bmtk.utils.sim_setup import build_env_bionet\n",
    "\n",
    "build_env_bionet(\n",
    "    base_dir='sim_ch01',       # Where to save the scripts and config files \n",
    "    config_file='config.json', # Where main config will be saved.\n",
    "    network_dir='network',     # Location of directory containing network files\n",
    "    tstop=2000.0, dt=0.1,      # Run a simulation for 2000 ms at 0.1 ms intervals\n",
    "    report_vars=['v', 'cai'],  # Tells simulator we want to record membrane potential and calcium traces\n",
    "    current_clamp={            # Creates a step current from 500.0 ms to 1500.0 ms  \n",
    "        'amp': 0.120,\n",
    "        'delay': 500.0,\n",
    "        'duration': 1000.0\n",
    "    },\n",
    "    include_examples=True,    # Copies components files for tutorial examples\n",
    "    compile_mechanisms=True   # Will try to compile NEURON mechanisms\n",
    ")"
   ]
  },
  {
   "cell_type": "markdown",
   "metadata": {},
   "source": [
    "<div class=\"alert alert-warning\">\n",
    "**Warning**: You may see an error that it failed while trying to compile the NEURON mechanisms - especially if Jupyter is unable to find your NEURON environment path. If this happens you will need to manually compile the mechanisms:  \n",
    "\n",
    "```\n",
    " cd sim_ch01/components/mechanisms  \n",
    " nrnivmodl modfiles\n",
    "```\n",
    "</div>\n",
    "\n",
    "\n",
    "\n",
    "This will create the directory **sim_ch01** (feel free to give it a better name or set it to a different locations) with a number of new files and folders. Some of the more important ones include:\n",
    "* **circuit_config.json** - A configuration file that contains the location of the network files we created above, and the location of neuron and synaptic models, templates, morphologies and mechanisms required to build and instantiate individual cell models.\n",
    "\n",
    "\n",
    "* **simulation_config.json** - contains information about the simulation. Including initial conditions and run-time configuration (_run_ and _conditions_). In the _inputs_ section we define what external sources we will use to drive the network (in this case a current clamp). And in the _reports_ section we define the variables (somatic membrane potential and calcium level) that will be recorded during the simulation. \n",
    "\n",
    "\n",
    "* **components/biophysical_neuron_models/472363762_fit.json** - The parameter file for the cell we're modeling. Originally [downloaded from the Allen Cell Types Database](http://celltypes.brain-map.org/neuronal_model/download/482934212)\n",
    "\n",
    "\n",
    "* **components/biophysical_neuron_models/Scnn1a_473845048_m.swc** - The morphology file for our cell. Originally [downloaded from the Allen Cell Types Database](http://celltypes.brain-map.org/neuronal_model/download/482934212)\n",
    "\n",
    "\n",
    "Modifying these files with a text editor, or swapping out different parameter or morphologies, allows for changing the simulation without extra programming."
   ]
  },
  {
   "cell_type": "markdown",
   "metadata": {},
   "source": [
    "## 3. Running the simulation\n",
    "\n",
    "Once our config file is setup we can run a simulation either through the command line:\n",
    "```bash\n",
    "$ cd sim_ch01\n",
    "$ python run_bionet.py config.json\n",
    "```\n",
    "\n",
    "or through the script"
   ]
  },
  {
   "cell_type": "code",
<<<<<<< HEAD
   "execution_count": 6,
=======
   "execution_count": 7,
>>>>>>> 634b08f4eef1d754707698f2a714a87fff98443a
   "metadata": {},
   "outputs": [
    {
     "name": "stdout",
     "output_type": "stream",
     "text": [
<<<<<<< HEAD
      "2024-02-28 17:15:49,550 [INFO] Created log file\n"
=======
      "2024-02-26 14:28:09,274 [INFO] Created log file\n"
>>>>>>> 634b08f4eef1d754707698f2a714a87fff98443a
     ]
    },
    {
     "name": "stderr",
     "output_type": "stream",
     "text": [
      "INFO:NEURONIOUtils:Created log file\n"
     ]
    },
    {
     "name": "stdout",
     "output_type": "stream",
     "text": [
<<<<<<< HEAD
      "2024-02-28 17:15:49,646 [INFO] Building cells.\n"
=======
      "NEURON mechanisms not found in /lustre1/scratch/356/vsc35693/neural-simulation/docs/tutorial/sim_ch01/components/mechanisms.\n",
      "2024-02-26 14:28:09,284 [INFO] Building cells.\n"
>>>>>>> 634b08f4eef1d754707698f2a714a87fff98443a
     ]
    },
    {
     "name": "stderr",
     "output_type": "stream",
     "text": [
      "INFO:NEURONIOUtils:Building cells.\n",
      "NEURON: gid=0 already exists on this process as an output port\n",
      " near line 0\n",
      " {create axon[2]}\n",
      "                 ^\n",
      "        ParallelContext[3].set_gid2node(0, 0)\n"
     ]
    },
    {
<<<<<<< HEAD
     "name": "stdout",
     "output_type": "stream",
     "text": [
      "2024-02-28 17:15:49,729 [INFO] Building recurrent connections\n"
     ]
    },
    {
     "name": "stderr",
     "output_type": "stream",
     "text": [
      "INFO:NEURONIOUtils:Building recurrent connections\n"
     ]
    },
    {
     "name": "stdout",
     "output_type": "stream",
     "text": [
      "2024-02-28 17:15:49,743 [INFO] Running simulation for 2000.000 ms with the time step 0.100 ms\n"
     ]
    },
    {
     "name": "stderr",
     "output_type": "stream",
     "text": [
      "INFO:NEURONIOUtils:Running simulation for 2000.000 ms with the time step 0.100 ms\n"
     ]
    },
    {
     "name": "stdout",
     "output_type": "stream",
     "text": [
      "2024-02-28 17:15:49,744 [INFO] Starting timestep: 0 at t_sim: 0.000 ms\n"
     ]
    },
    {
     "name": "stderr",
     "output_type": "stream",
     "text": [
      "INFO:NEURONIOUtils:Starting timestep: 0 at t_sim: 0.000 ms\n"
     ]
    },
    {
     "name": "stdout",
     "output_type": "stream",
     "text": [
      "2024-02-28 17:15:49,745 [INFO] Block save every 5000 steps\n"
     ]
    },
    {
     "name": "stderr",
     "output_type": "stream",
     "text": [
      "INFO:NEURONIOUtils:Block save every 5000 steps\n"
     ]
    },
    {
     "name": "stdout",
     "output_type": "stream",
     "text": [
      "2024-02-28 17:15:49,921 [INFO]     step:5000 t_sim:500.00 ms\n"
     ]
    },
    {
     "name": "stderr",
     "output_type": "stream",
     "text": [
      "INFO:NEURONIOUtils:    step:5000 t_sim:500.00 ms\n"
     ]
    },
    {
     "name": "stdout",
     "output_type": "stream",
     "text": [
      "2024-02-28 17:15:50,114 [INFO]     step:10000 t_sim:1000.00 ms\n"
     ]
    },
    {
     "name": "stderr",
     "output_type": "stream",
     "text": [
      "INFO:NEURONIOUtils:    step:10000 t_sim:1000.00 ms\n"
     ]
    },
    {
     "name": "stdout",
     "output_type": "stream",
     "text": [
      "2024-02-28 17:15:50,296 [INFO]     step:15000 t_sim:1500.00 ms\n"
     ]
    },
    {
     "name": "stderr",
     "output_type": "stream",
     "text": [
      "INFO:NEURONIOUtils:    step:15000 t_sim:1500.00 ms\n"
     ]
    },
    {
     "name": "stdout",
     "output_type": "stream",
     "text": [
      "2024-02-28 17:15:50,463 [INFO]     step:20000 t_sim:2000.00 ms\n"
     ]
    },
    {
     "name": "stderr",
     "output_type": "stream",
     "text": [
      "INFO:NEURONIOUtils:    step:20000 t_sim:2000.00 ms\n"
     ]
    },
    {
     "name": "stdout",
     "output_type": "stream",
     "text": [
      "2024-02-28 17:15:50,498 [INFO] Simulation completed in 0.7555 seconds \n"
     ]
    },
    {
     "name": "stderr",
     "output_type": "stream",
     "text": [
      "INFO:NEURONIOUtils:Simulation completed in 0.7555 seconds \n"
=======
     "ename": "RuntimeError",
     "evalue": "hoc error",
     "output_type": "error",
     "traceback": [
      "\u001b[0;31m---------------------------------------------------------------------------\u001b[0m",
      "\u001b[0;31mRuntimeError\u001b[0m                              Traceback (most recent call last)",
      "\u001b[1;32m/scratch/leuven/356/vsc35693/neural-simulation/docs/tutorial/01_single_cell_clamped.ipynb Cell 12\u001b[0m line \u001b[0;36m7\n\u001b[1;32m      <a href='vscode-notebook-cell://ondemand.hpc.kuleuven.be/scratch/leuven/356/vsc35693/neural-simulation/docs/tutorial/01_single_cell_clamped.ipynb#X14sdnNjb2RlLXJlbW90ZQ%3D%3D?line=4'>5</a>\u001b[0m conf\n\u001b[1;32m      <a href='vscode-notebook-cell://ondemand.hpc.kuleuven.be/scratch/leuven/356/vsc35693/neural-simulation/docs/tutorial/01_single_cell_clamped.ipynb#X14sdnNjb2RlLXJlbW90ZQ%3D%3D?line=5'>6</a>\u001b[0m net \u001b[39m=\u001b[39m bionet\u001b[39m.\u001b[39mBioNetwork\u001b[39m.\u001b[39mfrom_config(conf)\n\u001b[0;32m----> <a href='vscode-notebook-cell://ondemand.hpc.kuleuven.be/scratch/leuven/356/vsc35693/neural-simulation/docs/tutorial/01_single_cell_clamped.ipynb#X14sdnNjb2RlLXJlbW90ZQ%3D%3D?line=6'>7</a>\u001b[0m sim \u001b[39m=\u001b[39m bionet\u001b[39m.\u001b[39;49mBioSimulator\u001b[39m.\u001b[39;49mfrom_config(conf, network\u001b[39m=\u001b[39;49mnet)\n\u001b[1;32m      <a href='vscode-notebook-cell://ondemand.hpc.kuleuven.be/scratch/leuven/356/vsc35693/neural-simulation/docs/tutorial/01_single_cell_clamped.ipynb#X14sdnNjb2RlLXJlbW90ZQ%3D%3D?line=7'>8</a>\u001b[0m sim\u001b[39m.\u001b[39mrun()\n",
      "File \u001b[0;32m/data/leuven/356/vsc35693/anaconda3/envs/thesis/lib/python3.10/site-packages/bmtk/simulator/bionet/biosimulator.py:335\u001b[0m, in \u001b[0;36mBioSimulator.from_config\u001b[0;34m(cls, config, network, set_recordings)\u001b[0m\n\u001b[1;32m    332\u001b[0m \u001b[39m# The network must be built before initializing the simulator because\u001b[39;00m\n\u001b[1;32m    333\u001b[0m \u001b[39m# gap junctions must be set up before the simulation is initialized.\u001b[39;00m\n\u001b[1;32m    334\u001b[0m network\u001b[39m.\u001b[39mio\u001b[39m.\u001b[39mlog_info(\u001b[39m'\u001b[39m\u001b[39mBuilding cells.\u001b[39m\u001b[39m'\u001b[39m)\n\u001b[0;32m--> 335\u001b[0m network\u001b[39m.\u001b[39;49mbuild_nodes()\n\u001b[1;32m    337\u001b[0m network\u001b[39m.\u001b[39mio\u001b[39m.\u001b[39mlog_info(\u001b[39m'\u001b[39m\u001b[39mBuilding recurrent connections\u001b[39m\u001b[39m'\u001b[39m)\n\u001b[1;32m    338\u001b[0m network\u001b[39m.\u001b[39mbuild_recurrent_edges()\n",
      "File \u001b[0;32m/data/leuven/356/vsc35693/anaconda3/envs/thesis/lib/python3.10/site-packages/bmtk/simulator/bionet/bionetwork.py:178\u001b[0m, in \u001b[0;36mBioNetwork.build_nodes\u001b[0;34m(self)\u001b[0m\n\u001b[1;32m    176\u001b[0m \u001b[39mif\u001b[39;00m node_pop\u001b[39m.\u001b[39minternal_nodes_only:\n\u001b[1;32m    177\u001b[0m     \u001b[39mfor\u001b[39;00m node \u001b[39min\u001b[39;00m node_pop[MPI_rank::MPI_size]:\n\u001b[0;32m--> 178\u001b[0m         cell \u001b[39m=\u001b[39m \u001b[39mself\u001b[39;49m\u001b[39m.\u001b[39;49m_build_cell(bionode\u001b[39m=\u001b[39;49mnode, population_name\u001b[39m=\u001b[39;49mnode_pop\u001b[39m.\u001b[39;49mname)\n\u001b[1;32m    179\u001b[0m         node_ids_map[node\u001b[39m.\u001b[39mnode_id] \u001b[39m=\u001b[39m cell\n\u001b[1;32m    180\u001b[0m         \u001b[39mself\u001b[39m\u001b[39m.\u001b[39m_rank_node_gids[cell\u001b[39m.\u001b[39mgid] \u001b[39m=\u001b[39m cell\n",
      "File \u001b[0;32m/data/leuven/356/vsc35693/anaconda3/envs/thesis/lib/python3.10/site-packages/bmtk/simulator/bionet/bionetwork.py:161\u001b[0m, in \u001b[0;36mBioNetwork._build_cell\u001b[0;34m(self, bionode, population_name)\u001b[0m\n\u001b[1;32m    159\u001b[0m \u001b[39mdef\u001b[39;00m \u001b[39m_build_cell\u001b[39m(\u001b[39mself\u001b[39m, bionode, population_name):\n\u001b[1;32m    160\u001b[0m     \u001b[39mif\u001b[39;00m bionode\u001b[39m.\u001b[39mmodel_type \u001b[39min\u001b[39;00m \u001b[39mself\u001b[39m\u001b[39m.\u001b[39m_model_type_map:\n\u001b[0;32m--> 161\u001b[0m         cell \u001b[39m=\u001b[39m \u001b[39mself\u001b[39;49m\u001b[39m.\u001b[39;49m_model_type_map[bionode\u001b[39m.\u001b[39;49mmodel_type](bionode, population_name\u001b[39m=\u001b[39;49mpopulation_name, bionetwork\u001b[39m=\u001b[39;49m\u001b[39mself\u001b[39;49m)\n\u001b[1;32m    162\u001b[0m         \u001b[39mself\u001b[39m\u001b[39m.\u001b[39m_rank_nodes_by_model[bionode\u001b[39m.\u001b[39mmodel_type][cell\u001b[39m.\u001b[39mgid] \u001b[39m=\u001b[39m cell\n\u001b[1;32m    163\u001b[0m         \u001b[39mreturn\u001b[39;00m cell\n",
      "File \u001b[0;32m/data/leuven/356/vsc35693/anaconda3/envs/thesis/lib/python3.10/site-packages/bmtk/simulator/bionet/biocell.py:75\u001b[0m, in \u001b[0;36mBioCell.__init__\u001b[0;34m(self, node, population_name, bionetwork)\u001b[0m\n\u001b[1;32m     74\u001b[0m \u001b[39mdef\u001b[39;00m \u001b[39m__init__\u001b[39m(\u001b[39mself\u001b[39m, node, population_name, bionetwork):\n\u001b[0;32m---> 75\u001b[0m     \u001b[39msuper\u001b[39;49m(BioCell, \u001b[39mself\u001b[39;49m)\u001b[39m.\u001b[39;49m\u001b[39m__init__\u001b[39;49m(node\u001b[39m=\u001b[39;49mnode, population_name\u001b[39m=\u001b[39;49mpopulation_name, network\u001b[39m=\u001b[39;49mbionetwork)\n\u001b[1;32m     77\u001b[0m     \u001b[39m# Set up netcon object that can be used to detect and communicate cell spikes.\u001b[39;00m\n\u001b[1;32m     78\u001b[0m     \u001b[39mself\u001b[39m\u001b[39m.\u001b[39mset_spike_detector(bionetwork\u001b[39m.\u001b[39mspike_threshold)\n",
      "File \u001b[0;32m/data/leuven/356/vsc35693/anaconda3/envs/thesis/lib/python3.10/site-packages/bmtk/simulator/bionet/cell.py:51\u001b[0m, in \u001b[0;36mCell.__init__\u001b[0;34m(self, node, population_name, network)\u001b[0m\n\u001b[1;32m     48\u001b[0m \u001b[39mself\u001b[39m\u001b[39m.\u001b[39mset_soma_position()\n\u001b[1;32m     50\u001b[0m \u001b[39m# register the cell\u001b[39;00m\n\u001b[0;32m---> 51\u001b[0m pc\u001b[39m.\u001b[39;49mset_gid2node(\u001b[39mself\u001b[39;49m\u001b[39m.\u001b[39;49mgid, MPI_RANK)\n\u001b[1;32m     53\u001b[0m \u001b[39m# Load the NEURON HOC object\u001b[39;00m\n\u001b[1;32m     54\u001b[0m \u001b[39mself\u001b[39m\u001b[39m.\u001b[39m_hobj \u001b[39m=\u001b[39m node\u001b[39m.\u001b[39mload_cell()\n",
      "\u001b[0;31mRuntimeError\u001b[0m: hoc error"
>>>>>>> 634b08f4eef1d754707698f2a714a87fff98443a
     ]
    }
   ],
   "source": [
    "from bmtk.simulator import bionet\n",
    "\n",
    "conf = bionet.Config.from_json('sim_ch01/config.json')\n",
    "conf.build_env(rank=0)\n",
    "conf\n",
    "net = bionet.BioNetwork.from_config(conf)\n",
    "sim = bionet.BioSimulator.from_config(conf, network=net)\n",
    "sim.run()"
   ]
  },
  {
   "cell_type": "markdown",
   "metadata": {},
   "source": [
    "<div class=\"alert alert-warning\">\n",
    "**Warning**: If you get the following error\n",
    "    argument not a density mechanism name, you will need to compile the NEURON mechanisms  \n",
    "\n",
    "\n",
    "```\n",
    " cd sim_ch01/components/mechanisms\n",
    " nrnivmodl modfiles\n",
    " \n",
    "```\n",
    "</div>\n",
    "\n",
    "A quick breakdown of the script:\n",
    "```python\n",
    "conf = config.from_json('config.json')\n",
    "io.setup_output_dir(conf)\n",
    "nrn.load_neuron_modules(conf)\n",
    "```\n",
    "This section loads the configuration file, it sets up the output directory and files for writing during the simulation, and loads NEURON mechanisms needed by the cell model(s) during the simulation.\n",
    "\n",
    "```python\n",
    "net = bionet.BioNetwork.from_config(conf)\n",
    "```\n",
    "Creates a NEURON representation of the network, including cell models that have been converted into their NEURON equivalents.\n",
    "\n",
    "```python\n",
    "sim = Simulation.from_config(conf, network=net)\n",
    "sim.run()\n",
    "```\n",
    "Sets up and runs the NEURON simulation. When finished, the outputs (e.g., spike times, membrane potential, and Ca<sup>2+</sup> concentration) will be saved into the output directory as specified in the config.\n",
    "\n"
   ]
  },
  {
   "cell_type": "markdown",
   "metadata": {},
   "source": [
    "## 4. Analyzing the run\n",
    "\n",
    "The results of the simulation are placed into various files as specified in the \"output\" section of the config file. We can change this before run-time if required.\n",
    "\n",
    "All simulations will save the spike times of the network cells. These are saved in csv format (output/spikes.txt) or hdf5 format(output/spikes.h5). To get the table of spike times for our single-cell network we can run the following method from the analyzer (node_id 0 corresponds to our single cell)."
   ]
  },
  {
   "cell_type": "code",
   "execution_count": 7,
   "metadata": {},
   "outputs": [
    {
     "data": {
      "text/html": [
       "<div>\n",
       "<style scoped>\n",
       "    .dataframe tbody tr th:only-of-type {\n",
       "        vertical-align: middle;\n",
       "    }\n",
       "\n",
       "    .dataframe tbody tr th {\n",
       "        vertical-align: top;\n",
       "    }\n",
       "\n",
       "    .dataframe thead th {\n",
       "        text-align: right;\n",
       "    }\n",
       "</style>\n",
       "<table border=\"1\" class=\"dataframe\">\n",
       "  <thead>\n",
       "    <tr style=\"text-align: right;\">\n",
       "      <th></th>\n",
       "      <th>timestamps</th>\n",
       "      <th>node_ids</th>\n",
       "      <th>population</th>\n",
       "    </tr>\n",
       "  </thead>\n",
       "  <tbody>\n",
       "    <tr>\n",
       "      <th>0</th>\n",
       "      <td>554.8</td>\n",
       "      <td>0</td>\n",
       "      <td>mcortex</td>\n",
       "    </tr>\n",
       "    <tr>\n",
       "      <th>1</th>\n",
       "      <td>1379.5</td>\n",
       "      <td>0</td>\n",
       "      <td>mcortex</td>\n",
       "    </tr>\n",
       "    <tr>\n",
       "      <th>2</th>\n",
       "      <td>1319.5</td>\n",
       "      <td>0</td>\n",
       "      <td>mcortex</td>\n",
       "    </tr>\n",
       "    <tr>\n",
       "      <th>3</th>\n",
       "      <td>1259.5</td>\n",
       "      <td>0</td>\n",
       "      <td>mcortex</td>\n",
       "    </tr>\n",
       "    <tr>\n",
       "      <th>4</th>\n",
       "      <td>1199.5</td>\n",
       "      <td>0</td>\n",
       "      <td>mcortex</td>\n",
       "    </tr>\n",
       "    <tr>\n",
       "      <th>5</th>\n",
       "      <td>1139.7</td>\n",
       "      <td>0</td>\n",
       "      <td>mcortex</td>\n",
       "    </tr>\n",
       "    <tr>\n",
       "      <th>6</th>\n",
       "      <td>1079.9</td>\n",
       "      <td>0</td>\n",
       "      <td>mcortex</td>\n",
       "    </tr>\n",
       "    <tr>\n",
       "      <th>7</th>\n",
       "      <td>1020.4</td>\n",
       "      <td>0</td>\n",
       "      <td>mcortex</td>\n",
       "    </tr>\n",
       "    <tr>\n",
       "      <th>8</th>\n",
       "      <td>961.2</td>\n",
       "      <td>0</td>\n",
       "      <td>mcortex</td>\n",
       "    </tr>\n",
       "    <tr>\n",
       "      <th>9</th>\n",
       "      <td>902.6</td>\n",
       "      <td>0</td>\n",
       "      <td>mcortex</td>\n",
       "    </tr>\n",
       "    <tr>\n",
       "      <th>10</th>\n",
       "      <td>844.9</td>\n",
       "      <td>0</td>\n",
       "      <td>mcortex</td>\n",
       "    </tr>\n",
       "    <tr>\n",
       "      <th>11</th>\n",
       "      <td>788.7</td>\n",
       "      <td>0</td>\n",
       "      <td>mcortex</td>\n",
       "    </tr>\n",
       "    <tr>\n",
       "      <th>12</th>\n",
       "      <td>734.7</td>\n",
       "      <td>0</td>\n",
       "      <td>mcortex</td>\n",
       "    </tr>\n",
       "    <tr>\n",
       "      <th>13</th>\n",
       "      <td>683.9</td>\n",
       "      <td>0</td>\n",
       "      <td>mcortex</td>\n",
       "    </tr>\n",
       "    <tr>\n",
       "      <th>14</th>\n",
       "      <td>637.1</td>\n",
       "      <td>0</td>\n",
       "      <td>mcortex</td>\n",
       "    </tr>\n",
       "    <tr>\n",
       "      <th>15</th>\n",
       "      <td>594.4</td>\n",
       "      <td>0</td>\n",
       "      <td>mcortex</td>\n",
       "    </tr>\n",
       "    <tr>\n",
       "      <th>16</th>\n",
       "      <td>1439.6</td>\n",
       "      <td>0</td>\n",
       "      <td>mcortex</td>\n",
       "    </tr>\n",
       "    <tr>\n",
       "      <th>17</th>\n",
       "      <td>1499.7</td>\n",
       "      <td>0</td>\n",
       "      <td>mcortex</td>\n",
       "    </tr>\n",
       "  </tbody>\n",
       "</table>\n",
       "</div>"
      ],
      "text/plain": [
       "    timestamps  node_ids population\n",
       "0        554.8         0    mcortex\n",
       "1       1379.5         0    mcortex\n",
       "2       1319.5         0    mcortex\n",
       "3       1259.5         0    mcortex\n",
       "4       1199.5         0    mcortex\n",
       "5       1139.7         0    mcortex\n",
       "6       1079.9         0    mcortex\n",
       "7       1020.4         0    mcortex\n",
       "8        961.2         0    mcortex\n",
       "9        902.6         0    mcortex\n",
       "10       844.9         0    mcortex\n",
       "11       788.7         0    mcortex\n",
       "12       734.7         0    mcortex\n",
       "13       683.9         0    mcortex\n",
       "14       637.1         0    mcortex\n",
       "15       594.4         0    mcortex\n",
       "16      1439.6         0    mcortex\n",
       "17      1499.7         0    mcortex"
      ]
     },
     "execution_count": 7,
     "metadata": {},
     "output_type": "execute_result"
    }
   ],
   "source": [
    "from bmtk.analyzer.spike_trains import to_dataframe\n",
    "\n",
    "to_dataframe(config_file='sim_ch01/config.json')"
   ]
  },
  {
   "cell_type": "markdown",
   "metadata": {},
   "source": [
    "When setting up the environment and config file we specified cell_vars=['v', 'cai']. This indicates to the simulator to also record membrane potential and Ca<sup>2+</sup> level (and we can also specify other variables as long as they are supported in NEURON)."
   ]
  },
  {
   "cell_type": "code",
   "execution_count": 8,
   "metadata": {},
   "outputs": [
    {
     "data": {
<<<<<<< HEAD
      "image/png": "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",
=======
      "image/png": "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",
>>>>>>> 634b08f4eef1d754707698f2a714a87fff98443a
      "text/plain": [
       "<Figure size 640x480 with 1 Axes>"
      ]
     },
     "metadata": {},
     "output_type": "display_data"
    },
    {
     "data": {
<<<<<<< HEAD
      "image/png": "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",
=======
      "image/png": "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",
>>>>>>> 634b08f4eef1d754707698f2a714a87fff98443a
      "text/plain": [
       "<Figure size 640x480 with 1 Axes>"
      ]
     },
     "metadata": {},
     "output_type": "display_data"
    }
   ],
   "source": [
    "from bmtk.analyzer.compartment import plot_traces\n",
    "\n",
    "_ = plot_traces(config_file='sim_ch01/config.json', node_ids=[0], report_name='v_report')\n",
    "_ = plot_traces(config_file='sim_ch01/config.json', node_ids=[0], report_name='cai_report')"
   ]
  },
  {
   "cell_type": "markdown",
   "metadata": {},
   "source": [
    "## 5. Additional Information\n",
    "\n",
    "\n",
    "#### Changing run-time parameters.\n",
    "\n",
    "\n",
    "By making changes to the config file, we can change the conditions and simulation parameters without having to rebuild the network, modify parameter files, or change our run_bionet script. In fact we can iteratively run multiple simulations without any extra coding, only a text editor to change the json file.\n",
    "\n",
    "The run section of the config.json contains most of the parameters unique to the simulation:\n",
    "```json\n",
    "{\n",
    "  \"run\": {\n",
    "    \"dL\": 20,\n",
    "    \"nsteps_block\": 5000, \n",
    "    \"spike_threshold\": -15,\n",
    "    \"tstop\": 2000.0, \n",
    "    \"dt\": 0.1\n",
    "  }\n",
    "}\n",
    "```\n",
    "* *tstop* - Simulation runtime in milliseconds.\n",
    "* *dt* - Time steps of the simulation. Decreasing dt should increase accuracy of firing dynamics, but also increase time it takes to complete.\n",
    "* *spike_threshold* - Used to determine when to count an action potential\n",
    "* *dL* - Length of segments in a section. The number of segments will be forced to an odd number so the actual length may vary.\n",
    "\n",
    "Through the conditions section we can adjust simulation temperature (C) and the initial membrane potential of the cells:\n",
    "```json\n",
    "{\n",
    "  \"conditions\": {\n",
    "    \"celsius\": 34.0, \n",
    "    \"v_init\": -80\n",
    "  }\n",
    "}\n",
    "```\n",
    "\n",
    "And lastly, the input section lets us control stimulus onto the network. There are a number of different options which will be explained in the following tutorials. But even with a simple current injection we can adjust amplitude, delay and stimulation duration and measure the effect on the cell.\n",
    "```json\n",
    "{\n",
    "  \"inputs\": {\n",
    "    \"current_clamp\": {\n",
    "      \"input_type\": \"current_clamp\",\n",
    "      \"module\": \"IClamp\",\n",
    "      \"node_set\": \"all\",\n",
    "      \"amp\": 0.120,\n",
    "      \"delay\": 500.0,\n",
    "      \"duration\": 1000.0\n",
    "    }\n",
    "  }\n",
    "}\n",
    "```\n",
    "We can even add multiple injections\n",
    "```json\n",
    "{\n",
    "  \"inputs\": {\n",
    " \t\"cclamp1\": {\n",
    "      \"input_type\": \"current_clamp\",\n",
    "      \"module\": \"IClamp\",\n",
    "      \"node_set\": \"all\",\n",
    "      \"amp\": 0.150,\n",
    "      \"delay\": 0.0,\n",
    "      \"duration\": 400.0\n",
    "    },\n",
    "    \n",
    "    \"cclamp2\": {\n",
    "      \"input_type\": \"current_clamp\",\n",
    "      \"module\": \"IClamp\",\n",
    "      \"node_set\": \"all\",\n",
    "      \"amp\": 0.300,\n",
    "      \"delay\": 500.0,\n",
    "      \"duration\": 400.0\n",
    "    },\n",
    "    \n",
    "    \"cclamp3\": {\n",
    "      \"input_type\": \"current_clamp\",\n",
    "      \"module\": \"IClamp\",\n",
    "      \"node_set\": \"all\",\n",
    "      \"amp\": 0.450,\n",
    "      \"delay\": 1000.0,\n",
    "      \"duration\": 400.0\n",
    "    }\n",
    "  }\n",
    "}\n",
    "```"
   ]
  },
  {
   "cell_type": "markdown",
   "metadata": {},
   "source": [
    "#### Changing cell models\n",
    "When building the network we defined the cell model and morphology through the 'dynamics_params' and 'morphology_file' options. After building and saving the network, these values were saved in the node-types csv file."
   ]
  },
  {
   "cell_type": "code",
   "execution_count": 9,
   "metadata": {},
   "outputs": [
    {
     "data": {
      "text/html": [
       "<div>\n",
       "<style scoped>\n",
       "    .dataframe tbody tr th:only-of-type {\n",
       "        vertical-align: middle;\n",
       "    }\n",
       "\n",
       "    .dataframe tbody tr th {\n",
       "        vertical-align: top;\n",
       "    }\n",
       "\n",
       "    .dataframe thead th {\n",
       "        text-align: right;\n",
       "    }\n",
       "</style>\n",
       "<table border=\"1\" class=\"dataframe\">\n",
       "  <thead>\n",
       "    <tr style=\"text-align: right;\">\n",
       "      <th></th>\n",
       "      <th>node_type_id</th>\n",
       "      <th>model_template</th>\n",
       "      <th>morphology</th>\n",
       "      <th>potential</th>\n",
       "      <th>model_type</th>\n",
       "      <th>cell_name</th>\n",
       "      <th>model_processing</th>\n",
       "      <th>dynamics_params</th>\n",
       "    </tr>\n",
       "  </thead>\n",
       "  <tbody>\n",
       "    <tr>\n",
       "      <th>0</th>\n",
       "      <td>100</td>\n",
       "      <td>ctdb:Biophys1.hoc</td>\n",
       "      <td>Scnn1a_473845048_m.swc</td>\n",
       "      <td>exc</td>\n",
       "      <td>biophysical</td>\n",
       "      <td>Scnn1a_473845048</td>\n",
       "      <td>aibs_perisomatic</td>\n",
       "      <td>472363762_fit.json</td>\n",
       "    </tr>\n",
       "  </tbody>\n",
       "</table>\n",
       "</div>"
      ],
      "text/plain": [
       "   node_type_id     model_template              morphology potential  \\\n",
       "0           100  ctdb:Biophys1.hoc  Scnn1a_473845048_m.swc       exc   \n",
       "\n",
       "    model_type         cell_name  model_processing     dynamics_params  \n",
       "0  biophysical  Scnn1a_473845048  aibs_perisomatic  472363762_fit.json  "
      ]
     },
     "execution_count": 9,
     "metadata": {},
     "output_type": "execute_result"
    }
   ],
   "source": [
    "import pandas as pd\n",
    "pd.read_csv('sim_ch01/network/mcortex_node_types.csv', sep=' ')"
   ]
  },
  {
   "cell_type": "markdown",
   "metadata": {},
   "source": [
    "If we want to run the simulation on a different cell model, all we have to do is: \n",
    "1. Download new parameters.json and morphology.swc into components/biophysical_neuron_models and components/morphologies \n",
    "2. Open mcortex_node_types.csv in a text editor and update 'morphology_file' and 'params_file' accordingly.\n",
    "\n",
    "In our simple one-cell example, it is likely faster to just rebuild the network. However the advantage of the use of the node types becomes clear once we start dealing with a larger network. For example we may have a network of hundreds of thousands of individual cells with tens of thousands of Scnn1a type cells. The process of adjusting/changing the Scnn1a parameter in the csv then starting another simulation only takes seconds, whereas rebuilding the entire network may take hours."
   ]
  }
 ],
 "metadata": {
  "anaconda-cloud": {},
  "kernelspec": {
   "display_name": "Python 3 (ipykernel)",
   "language": "python",
   "name": "python3"
  },
  "language_info": {
   "codemirror_mode": {
    "name": "ipython",
    "version": 3
   },
   "file_extension": ".py",
   "mimetype": "text/x-python",
   "name": "python",
   "nbconvert_exporter": "python",
   "pygments_lexer": "ipython3",
   "version": "3.10.12"
  }
 },
 "nbformat": 4,
 "nbformat_minor": 2
}
