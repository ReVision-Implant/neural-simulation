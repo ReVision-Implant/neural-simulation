{
 "cells": [
  {
   "cell_type": "markdown",
   "metadata": {},
   "source": [
    "A decorator takes a function, extends it and returns."
   ]
  },
  {
   "cell_type": "code",
   "execution_count": 1,
   "metadata": {},
   "outputs": [
    {
     "name": "stdout",
     "output_type": "stream",
     "text": [
      "Hello\n"
     ]
    }
   ],
   "source": [
    "def hello():                                                                                                \n",
    "    print(\"Hello\")                                                                                          \n",
    "                                                                                                            \n",
    "# even functions are objects                                                                                \n",
    "message = hello                                                                                             \n",
    "                                                                                                            \n",
    "# call new function                                                                                         \n",
    "message()          "
   ]
  },
  {
   "cell_type": "markdown",
   "metadata": {},
   "source": [
    "In the below example, hello() is a decorator."
   ]
  },
  {
   "cell_type": "code",
   "execution_count": 2,
   "metadata": {},
   "outputs": [
    {
     "name": "stdout",
     "output_type": "stream",
     "text": [
      "Hello \n",
      "Alice\n"
     ]
    }
   ],
   "source": [
    "def hello(func):                                                                                            \n",
    "    def inner():                                                                                            \n",
    "        print(\"Hello \")                                                                                     \n",
    "        func()                                                                                              \n",
    "    return inner                                                                                            \n",
    "                                                                                                            \n",
    "def name():                                                                                                 \n",
    "    print(\"Alice\")                                                                                          \n",
    "                                                                                                            \n",
    "                                                                                                            \n",
    "obj = hello(name)                                                                                           \n",
    "obj()          "
   ]
  },
  {
   "cell_type": "code",
   "execution_count": 1,
   "metadata": {},
   "outputs": [
    {
     "name": "stdout",
     "output_type": "stream",
     "text": [
      "The current user is : Alice\n"
     ]
    }
   ],
   "source": [
    "def who():                                                                                                  \n",
    "    print(\"Alice\")                                                                                          \n",
    "                                                                                                            \n",
    "def display(func):                                                                                          \n",
    "    def inner():                                                                                            \n",
    "        print(\"The current user is : \", end=\"\")                                                             \n",
    "        func()                                                                                              \n",
    "    return inner                                                                                            \n",
    "                                                                                                            \n",
    "if __name__ == \"__main__\":                                                                                  \n",
    "    myobj = display(who)                                                                                    \n",
    "    myobj()   "
   ]
  },
  {
   "cell_type": "code",
   "execution_count": null,
   "metadata": {},
   "outputs": [],
   "source": []
  }
 ],
 "metadata": {
  "kernelspec": {
   "display_name": "bmtk",
   "language": "python",
   "name": "python3"
  },
  "language_info": {
   "codemirror_mode": {
    "name": "ipython",
    "version": 3
   },
   "file_extension": ".py",
   "mimetype": "text/x-python",
   "name": "python",
   "nbconvert_exporter": "python",
   "pygments_lexer": "ipython3",
   "version": "3.10.12"
  },
  "orig_nbformat": 4
 },
 "nbformat": 4,
 "nbformat_minor": 2
}
