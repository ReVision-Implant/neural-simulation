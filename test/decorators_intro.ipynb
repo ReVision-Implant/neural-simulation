{
 "cells": [
  {
   "cell_type": "markdown",
   "metadata": {},
   "source": [
    "A decorator takes a function, extends it and returns."
   ]
  },
  {
   "cell_type": "code",
   "execution_count": 2,
   "metadata": {},
   "outputs": [
    {
     "name": "stdout",
     "output_type": "stream",
     "text": [
      "Hello\n"
     ]
    }
   ],
   "source": [
    "def hello():                                                                                                \n",
    "    print(\"Hello\")                                                                                          \n",
    "                                                                                                            \n",
    "# even functions are objects                                                                                \n",
    "message = hello                                                                                             \n",
    "                                                                                                            \n",
    "# call new function                                                                                         \n",
    "message()          "
   ]
  },
  {
   "cell_type": "markdown",
   "metadata": {},
   "source": [
    "In the below example, hello() is a decorator."
   ]
  },
  {
   "cell_type": "code",
   "execution_count": 3,
   "metadata": {},
   "outputs": [
    {
     "name": "stdout",
     "output_type": "stream",
     "text": [
      "Hello \n",
      "Alice\n"
     ]
    }
   ],
   "source": [
    "def hello(func):                                                                                            \n",
    "    def inner():                                                                                            \n",
    "        print(\"Hello \")                                                                                     \n",
    "        func()                                                                                              \n",
    "    return inner                                                                                            \n",
    "                                                                                                            \n",
    "def name():                                                                                                 \n",
    "    print(\"Alice\")                                                                                          \n",
    "                                                                                                            \n",
    "                                                                                                            \n",
    "obj = hello(name)                                                                                           \n",
    "obj()          "
   ]
  },
  {
   "cell_type": "code",
   "execution_count": 4,
   "metadata": {},
   "outputs": [
    {
     "name": "stdout",
     "output_type": "stream",
     "text": [
      "The current user is : Alice\n"
     ]
    }
   ],
   "source": [
    "def who():                                                                                                  \n",
    "    print(\"Alice\")                                                                                          \n",
    "                                                                                                            \n",
    "def display(func):                                                                                          \n",
    "    def inner():                                                                                            \n",
    "        print(\"The current user is : \", end=\"\")                                                             \n",
    "        func()                                                                                              \n",
    "    return inner                                                                                            \n",
    "                                                                                                            \n",
    "if __name__ == \"__main__\":                                                                                  \n",
    "    myobj = display(who)                                                                                    \n",
    "    myobj()   "
   ]
  },
  {
   "cell_type": "code",
   "execution_count": 5,
   "metadata": {},
   "outputs": [
    {
     "name": "stdout",
     "output_type": "stream",
     "text": [
      "Hello \n",
      "Alice\n"
     ]
    }
   ],
   "source": [
    "@hello                                                                                                      \n",
    "def name():                                                                                                 \n",
    "    print(\"Alice\")                                                                                          \n",
    "                                                                                                            \n",
    "if __name__ == \"__main__\":                                                                                  \n",
    "    name()\n",
    "\n",
    "\"\"\"\n",
    "@hello                                                                                                      \n",
    "def name():  \n",
    "\n",
    "is the same as writing \n",
    "\n",
    "obj = hello(name)\n",
    "\"\"\""
   ]
  },
  {
   "cell_type": "code",
   "execution_count": 6,
   "metadata": {},
   "outputs": [
    {
     "name": "stdout",
     "output_type": "stream",
     "text": [
      "5 + 3 is 8\n"
     ]
    }
   ],
   "source": [
    "def pretty_sumab(func):                                                                                     \n",
    "    def inner(a,b):                                                                                         \n",
    "        print(str(a) + \" + \" + str(b) + \" is \", end=\"\")                                                     \n",
    "        return func(a,b)                                                                                    \n",
    "                                                                                                            \n",
    "    return inner                                                                                            \n",
    "                                                                                                            \n",
    "@pretty_sumab                                                                                               \n",
    "def sumab(a,b):                                                                                             \n",
    "    summed = a + b                                                                                          \n",
    "    print(summed)                                                                                      \n",
    "                                                                                                            \n",
    "if __name__ == \"__main__\":                                                                                  \n",
    "    sumab(5,3)    "
   ]
  },
  {
   "cell_type": "code",
   "execution_count": 7,
   "metadata": {},
   "outputs": [
    {
     "name": "stdout",
     "output_type": "stream",
     "text": [
      "Function took 2.00740647315979 seconds to run\n"
     ]
    }
   ],
   "source": [
    "import time                                                                                                               \n",
    "                                                                                                                          \n",
    "def measure_time(func):                                                                                                   \n",
    "                                                                                                                          \n",
    "  def wrapper(*arg):                                                                                                      \n",
    "      t = time.time()                                                                                                     \n",
    "      res = func(*arg)                                                                                                    \n",
    "      print(\"Function took \" + str(time.time()-t) + \" seconds to run\")                                                    \n",
    "      return res                                                                                                          \n",
    "                                                                                                                          \n",
    "  return wrapper                                                                                                          \n",
    "                                                                                                                          \n",
    "@measure_time                                                                                                             \n",
    "def myFunction(n):                                                                                                        \n",
    "  time.sleep(n)                                                                                                           \n",
    "                                                                                                                          \n",
    "if __name__ == \"__main__\":                                                                                                \n",
    "    myFunction(2)  "
   ]
  },
  {
   "cell_type": "code",
   "execution_count": 9,
   "metadata": {},
   "outputs": [
    {
     "name": "stdout",
     "output_type": "stream",
     "text": [
      "<b><i>hello</i></b>\n"
     ]
    }
   ],
   "source": [
    "from functools import wraps\n",
    "\n",
    "def wrap_in_tag(tag):\n",
    "    def factory(func):\n",
    "        @wraps(func)\n",
    "        def decorator():\n",
    "            return '<%(tag)s>%(rv)s</%(tag)s>' % (\n",
    "                {'\n",
    "                 tag': tag, 'rv': func()})\n",
    "        return decorator\n",
    "    return factory\n",
    "\n",
    "@wrap_in_tag('b')\n",
    "@wrap_in_tag('i')\n",
    "def say():\n",
    "    return 'hello'\n",
    "\n",
    "print(say())"
   ]
  },
  {
   "cell_type": "code",
   "execution_count": null,
   "metadata": {},
   "outputs": [],
   "source": [
    "\"\"\"\n",
    "mkdir ~/vnd\n",
    "cd ~/vnd\n",
    "mkdir lib\n",
    "mkdir bin\n",
    "mkdir ../my-temp\n",
    "cd ../my-temp\n",
    "mkdir vnd-installer\n",
    "cd vnd-installer\n",
    "mv ~/Downloads/vnd-1.9.4a53p7b.LINUXAMD64.opengl.tar.gz ~/my-temp/vnd-installer\n",
    "cd ~/my-temp/vnd-installer\n",
    "gunzip vnd-1.9.4a53p7b.LINUXAMD64.opengl.tar.gz\n",
    "tar xvf vnd-1.9.4a53p7b.LINUXAMD64.opengl.tar\n",
    "cd vnd-1.9.4a53\n",
    "\"\"\""
   ]
  }
 ],
 "metadata": {
  "kernelspec": {
   "display_name": "bmtk",
   "language": "python",
   "name": "python3"
  },
  "language_info": {
   "codemirror_mode": {
    "name": "ipython",
    "version": 3
   },
   "file_extension": ".py",
   "mimetype": "text/x-python",
   "name": "python",
   "nbconvert_exporter": "python",
   "pygments_lexer": "ipython3",
   "version": "3.10.12"
  },
  "orig_nbformat": 4
 },
 "nbformat": 4,
 "nbformat_minor": 2
}
